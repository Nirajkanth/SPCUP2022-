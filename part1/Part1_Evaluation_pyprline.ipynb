{
 "cells": [
  {
   "cell_type": "code",
   "execution_count": 2,
   "id": "a662a071",
   "metadata": {},
   "outputs": [],
   "source": [
    "#LODE MODEL\n",
    "import librosa\n",
    "import librosa.display\n",
    "import numpy as np\n",
    "from keras.models import load_model\n",
    "model = load_model('audio_classification_Part1.hdf5')"
   ]
  },
  {
   "cell_type": "code",
   "execution_count": 3,
   "id": "4e6fd69e",
   "metadata": {},
   "outputs": [],
   "source": [
    "import os\n",
    "import pandas as pd\n",
    "audio_dataset_path=\"C:/Users/admin/Desktop/spcup_2022_training_part1/spcup_2022_eval_part1\"#audio set path \n",
    "metadata=pd.read_csv(\"C:/Users/admin/Desktop/spcup_2022_training_part1/spcup_2022_eval_part1/labels_eval_part1.csv\")#testinf csv file path"
   ]
  },
  {
   "cell_type": "code",
   "execution_count": null,
   "id": "3ad6db0f",
   "metadata": {},
   "outputs": [],
   "source": [
    "#MFCC FEATURE EXTRCTION\n",
    "def feature_extractor(file):\n",
    "    data,sample_rate=librosa.load(file,res_type='kaiser_fast')\n",
    "    mfccs=librosa.feature.mfcc(y=data,sr=sample_rate,n_mfcc=60)    \n",
    "    mfccs_scaled_features=np.mean(mfccs.T,axis=0)\n",
    "    mfccs_scaled_features1=np.std(mfccs.T,axis=0)\n",
    "    return mfccs_scaled_features+mfccs_scaled_features1"
   ]
  },
  {
   "cell_type": "code",
   "execution_count": null,
   "id": "df90af8c",
   "metadata": {},
   "outputs": [],
   "source": [
    "predction_label=[]\n",
    "for index,row in tqdm(metadata.iterrows()):\n",
    "    file_name=os.path.join(os.path.abspath(audio_dataset_path),str(row[\"track\"]))\n",
    "    data=feature_extractor(file_name)\n",
    "    data=data.reshape(1,-1)\n",
    "    predict_x=model.predict(data) \n",
    "    classes_x=np.argmax(predict_x,axis=1)\n",
    "    predction_label.append([str(row[\"track\"]),int(classes_x)])"
   ]
  },
  {
   "cell_type": "code",
   "execution_count": null,
   "id": "fe56380b",
   "metadata": {},
   "outputs": [],
   "source": [
    "predction_label=pd.DataFrame(predction_label,columns=['track','algorithm'])"
   ]
  },
  {
   "cell_type": "code",
   "execution_count": null,
   "id": "a6518ed1",
   "metadata": {},
   "outputs": [],
   "source": [
    "from pathlib import Path  \n",
    "filepath = Path('C:/Users/admin/Desktop/part2_scores.csv')  \n",
    "filepath.parent.mkdir(parents=True, exist_ok=True)  \n",
    "predction_label.to_csv(filepath)"
   ]
  }
 ],
 "metadata": {
  "kernelspec": {
   "display_name": "Python 3",
   "language": "python",
   "name": "python3"
  },
  "language_info": {
   "codemirror_mode": {
    "name": "ipython",
    "version": 3
   },
   "file_extension": ".py",
   "mimetype": "text/x-python",
   "name": "python",
   "nbconvert_exporter": "python",
   "pygments_lexer": "ipython3",
   "version": "3.7.0 (v3.7.0:1bf9cc5093, Jun 27 2018, 04:59:51) [MSC v.1914 64 bit (AMD64)]"
  },
  "vscode": {
   "interpreter": {
    "hash": "d49c3f6d6dd49f9272b571d9fad348ab55b8c6c3f691520d74ed0af1f69c3dd8"
   }
  }
 },
 "nbformat": 4,
 "nbformat_minor": 5
}
